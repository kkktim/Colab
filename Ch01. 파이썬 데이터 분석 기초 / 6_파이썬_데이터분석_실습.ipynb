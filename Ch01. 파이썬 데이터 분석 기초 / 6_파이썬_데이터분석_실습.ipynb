{
  "nbformat": 4,
  "nbformat_minor": 0,
  "metadata": {
    "colab": {
      "name": "6.파이썬 데이터분석 실습.ipynb",
      "provenance": [],
      "mount_file_id": "1MmqoS-kdUQCYnqetLVxRwFn8to3Knp23",
      "authorship_tag": "ABX9TyMeSUI61wdK6TLf7UsHw+J4",
      "include_colab_link": true
    },
    "kernelspec": {
      "name": "python3",
      "display_name": "Python 3"
    },
    "language_info": {
      "name": "python"
    }
  },
  "cells": [
    {
      "cell_type": "markdown",
      "metadata": {
        "id": "view-in-github",
        "colab_type": "text"
      },
      "source": [
        "<a href=\"https://colab.research.google.com/github/kkktim/Colab/blob/master/Ch01.%20%ED%8C%8C%EC%9D%B4%EC%8D%AC%20%EB%8D%B0%EC%9D%B4%ED%84%B0%20%EB%B6%84%EC%84%9D%20%EA%B8%B0%EC%B4%88%20/%206_%ED%8C%8C%EC%9D%B4%EC%8D%AC_%EB%8D%B0%EC%9D%B4%ED%84%B0%EB%B6%84%EC%84%9D_%EC%8B%A4%EC%8A%B5.ipynb\" target=\"_parent\"><img src=\"https://colab.research.google.com/assets/colab-badge.svg\" alt=\"Open In Colab\"/></a>"
      ]
    },
    {
      "cell_type": "code",
      "execution_count": 26,
      "metadata": {
        "id": "r_AlWUwvhAuD"
      },
      "outputs": [],
      "source": [
        "\"\"\"\n",
        "날짜 : 2022/04/27\n",
        "이름 : 강태호\n",
        "내용 : 파이썬 데이터분석 실습하기\n",
        "\"\"\"\n",
        "import pandas as pd\n",
        "import numpy as np\n",
        "import matplotlib.pyplot as plt\n",
        "import seaborn as sns"
      ]
    },
    {
      "cell_type": "code",
      "source": [
        "#데이터 불러오기\n",
        "df_koweps = pd.read_csv('/content/drive/MyDrive/파이썬 데이터 과학 실습/file/koweps_2015.csv', encoding='euc-kr')\n",
        "df_koweps"
      ],
      "metadata": {
        "id": "rd_fwP0ahyXm"
      },
      "execution_count": null,
      "outputs": []
    },
    {
      "cell_type": "code",
      "source": [
        "#데이터 크기 확인\n",
        "df_koweps.shape"
      ],
      "metadata": {
        "colab": {
          "base_uri": "https://localhost:8080/"
        },
        "id": "atYWenp2ixLf",
        "outputId": "a163fae2-11eb-4c32-eecf-4e40f0fe6235"
      },
      "execution_count": 5,
      "outputs": [
        {
          "output_type": "execute_result",
          "data": {
            "text/plain": [
              "(16664, 958)"
            ]
          },
          "metadata": {},
          "execution_count": 5
        }
      ]
    },
    {
      "cell_type": "code",
      "source": [
        "###############################################################\n",
        "#분석주제1.지역별 인구수 분석(지역컬럼:h10_reg7 - 1:서울, 2:경기/인천, 3:부산/경남, 4:대구/경북, 5:대전/충남, 6:강원/충북, 7:광주/전남/전북/제주)\n",
        "df_local = df_koweps.loc[:, ['h10_reg7']]\n",
        "\n",
        "counts = []\n",
        "for i in range(1, 8):\n",
        "  count = df_local[df_local.h10_reg7 == i].h10_reg7.count()\n",
        "  counts.append(count)\n",
        "\n",
        "counts\n",
        "\n",
        "#시각화\n",
        "plt.title(\"region count\")\n",
        "plt.bar(['1', '2', '3', '4', '5', '6', '7'],\n",
        "        counts)\n",
        "plt.show()"
      ],
      "metadata": {
        "colab": {
          "base_uri": "https://localhost:8080/",
          "height": 281
        },
        "id": "BSkIPRFGj05D",
        "outputId": "ae8e2614-28e5-4759-f7bc-9ced1221bce3"
      },
      "execution_count": 27,
      "outputs": [
        {
          "output_type": "display_data",
          "data": {
            "text/plain": [
              "<Figure size 432x288 with 1 Axes>"
            ],
            "image/png": "[encoded data removed]"
          },
          "metadata": {
            "needs_background": "light"
          }
        }
      ]
    },
    {
      "cell_type": "code",
      "source": [
        "###############################################################\n",
        "#분석주제2.나이대 별 인구 분석(나이컬럼:h10_g4)\n",
        "df_age = df_koweps.loc[:, ['h10_g4', 'h10_g11']]\n",
        "\n",
        "#파생변수 age, gen 생성\n",
        "df_age['age'] = 2022 - df_age.h10_g4\n",
        "\n",
        "df_age['gen'] = [0 if 0 <= a < 10 else \n",
        "                 10 if 10 <= a < 20 else \n",
        "                 20 if 20 <= a < 30 else \n",
        "                 30 if 30 <= a < 40 else \n",
        "                 40 if 40 <= a < 50 else \n",
        "                 50 if 50 <= a < 60 else \n",
        "                 60 if 60 <= a < 70 else \n",
        "                 70 if 70 <= a < 80 else \n",
        "                 80 if 80 <= a < 90 else \n",
        "                 90 if 90 <= a < 100 else 100 for a in df_age['age']]\n",
        "\n",
        "df_result = df_age.groupby(by='gen', as_index=False)['h10_g4'].count().rename(columns={'h10_g4':'total'})\n",
        "df_result\n",
        "\n",
        "#시각화\n",
        "plt.title('generation total')\n",
        "plt.bar(df_result['gen'], df_result['total'], width=7)\n",
        "plt.show()"
      ],
      "metadata": {
        "colab": {
          "base_uri": "https://localhost:8080/",
          "height": 281
        },
        "id": "bAwZo-YSkCNy",
        "outputId": "5862066f-144d-4595-f667-ce47da4cd8ea"
      },
      "execution_count": 39,
      "outputs": [
        {
          "output_type": "display_data",
          "data": {
            "text/plain": [
              "<Figure size 432x288 with 1 Axes>"
            ],
            "image/png": "[encoded data removed]"
          },
          "metadata": {
            "needs_background": "light"
          }
        }
      ]
    },
    {
      "cell_type": "code",
      "source": [
        "###############################################################\n",
        "#분석주제3.나이대 별 소득분포(소득컬럼:p1002_8aq1)\n",
        "df_income = df_koweps.loc[:,['h10_g3', 'h10_g4', 'h10_eco9', 'p1002_8aq1']]\n",
        "df_income.columns=['gender', 'birth', 'job', 'salary']\n",
        "df_income\n",
        "\n",
        "#결측치 처리\n",
        "df_income = df_income.fillna(0)\n",
        "\n",
        "#나이 파생변수 추가\n",
        "df_income['age'] = 2022 - df_income.birth\n",
        "df_income\n",
        "\n",
        "#gen 파생변수 추가\n",
        "df_income['gen'] = [0 if 0 <= a < 10 else \n",
        "                 10 if 10 <= a < 20 else \n",
        "                 20 if 20 <= a < 30 else \n",
        "                 30 if 30 <= a < 40 else \n",
        "                 40 if 40 <= a < 50 else \n",
        "                 50 if 50 <= a < 60 else \n",
        "                 60 if 60 <= a < 70 else \n",
        "                 70 if 70 <= a < 80 else \n",
        "                 80 if 80 <= a < 90 else \n",
        "                 90 if 90 <= a < 100 else 100 for a in df_income['age']]\n",
        "\n",
        "df_income_mean = df_income.groupby('gen')['salary'].mean().reset_index()\n",
        "df_income_mean\n",
        "\n",
        "#시각화\n",
        "plt.title('Salary by gen')\n",
        "plt.bar(df_income['gen'], df_income['salary'], width=7)\n",
        "plt.show()"
      ],
      "metadata": {
        "colab": {
          "base_uri": "https://localhost:8080/",
          "height": 281
        },
        "id": "MuoHKUAPkIF6",
        "outputId": "aec2b8f7-cd46-4b5b-decc-ee0be9252137"
      },
      "execution_count": 64,
      "outputs": [
        {
          "output_type": "display_data",
          "data": {
            "text/plain": [
              "<Figure size 432x288 with 1 Axes>"
            ],
            "image/png": "[encoded data removed]"
          },
          "metadata": {
            "needs_background": "light"
          }
        }
      ]
    }
  ]
}