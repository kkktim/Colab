{
  "nbformat": 4,
  "nbformat_minor": 0,
  "metadata": {
    "colab": {
      "name": "3.다중선형회귀.ipynb",
      "provenance": [],
      "authorship_tag": "ABX9TyOeA+oj15Itcyv3ZiaR1sz0",
      "include_colab_link": true
    },
    "kernelspec": {
      "name": "python3",
      "display_name": "Python 3"
    },
    "language_info": {
      "name": "python"
    }
  },
  "cells": [
    {
      "cell_type": "markdown",
      "metadata": {
        "id": "view-in-github",
        "colab_type": "text"
      },
      "source": [
        "<a href=\"https://colab.research.google.com/github/kkktim/Colab/blob/master/Ch02.%20%EB%A8%B8%EC%8B%A0%EB%9F%AC%EB%8B%9D%20%EC%8B%A4%EC%8A%B5%20/%203_%EB%8B%A4%EC%A4%91%EC%84%A0%ED%98%95%ED%9A%8C%EA%B7%80.ipynb\" target=\"_parent\"><img src=\"https://colab.research.google.com/assets/colab-badge.svg\" alt=\"Open In Colab\"/></a>"
      ]
    },
    {
      "cell_type": "code",
      "execution_count": 1,
      "metadata": {
        "id": "OaPC65WJk-4I"
      },
      "outputs": [],
      "source": [
        "\"\"\"\n",
        "날짜 : 2022/05/02\n",
        "이름 : 강태호\n",
        "내용 : 다중 선형회귀분석 실습\n",
        "\"\"\"\n",
        "from sklearn.linear_model import LinearRegression"
      ]
    },
    {
      "cell_type": "code",
      "source": [
        "#학습데이터, 라벨 준비\n",
        "train_data = [[170, 27], [155, 25], [150, 34], [175, 51], [165, 47]]\n",
        "train_label = [65, 50, 45, 70, 55]"
      ],
      "metadata": {
        "id": "9yPVlNhClQSi"
      },
      "execution_count": 2,
      "outputs": []
    },
    {
      "cell_type": "code",
      "source": [
        "#학습하기\n",
        "model = LinearRegression()\n",
        "model.fit(train_data, train_label)"
      ],
      "metadata": {
        "colab": {
          "base_uri": "https://localhost:8080/"
        },
        "id": "KuDK4UrZlqfe",
        "outputId": "0eb1fccb-5ade-42f3-96f4-8bf38b1360b3"
      },
      "execution_count": 3,
      "outputs": [
        {
          "output_type": "execute_result",
          "data": {
            "text/plain": [
              "LinearRegression()"
            ]
          },
          "metadata": {},
          "execution_count": 3
        }
      ]
    },
    {
      "cell_type": "code",
      "source": [
        "#테스트하기\n",
        "test_data = [[160, 45], [172, 21], [178, 39], [154, 17], [186, 53]]\n",
        "result = model.predict(test_data)\n",
        "result"
      ],
      "metadata": {
        "colab": {
          "base_uri": "https://localhost:8080/"
        },
        "id": "sEkZFjw6mM-4",
        "outputId": "3596e084-8e5b-4f31-bbed-2ace8446d9be"
      },
      "execution_count": 4,
      "outputs": [
        {
          "output_type": "execute_result",
          "data": {
            "text/plain": [
              "array([52.94563163, 68.17040267, 72.39857537, 49.84552987, 79.16420991])"
            ]
          },
          "metadata": {},
          "execution_count": 4
        }
      ]
    },
    {
      "cell_type": "code",
      "source": [
        "########################################################################\n",
        "#다중선형회귀 연습문제\n",
        "#학습데이터, 라벨 준비\n",
        "train_data = [[170, 27, 1], [155, 25, 2], [150, 34, 2], [175, 51, 1], [165, 47, 1]]\n",
        "train_label = [65, 50, 45, 70, 55]"
      ],
      "metadata": {
        "id": "7zfqJbnLmsBo"
      },
      "execution_count": 5,
      "outputs": []
    },
    {
      "cell_type": "code",
      "source": [
        "#학습\n",
        "model = LinearRegression()\n",
        "model.fit(train_data, train_label)"
      ],
      "metadata": {
        "colab": {
          "base_uri": "https://localhost:8080/"
        },
        "id": "eXO1DDpdnFxV",
        "outputId": "217f4454-e3d2-4067-fa70-35a8800b16ff"
      },
      "execution_count": 16,
      "outputs": [
        {
          "output_type": "execute_result",
          "data": {
            "text/plain": [
              "LinearRegression()"
            ]
          },
          "metadata": {},
          "execution_count": 16
        }
      ]
    },
    {
      "cell_type": "code",
      "source": [
        "#테스트\n",
        "test_data = [[180, 27, 1]]\n",
        "result = model.predict(test_data)\n",
        "result"
      ],
      "metadata": {
        "colab": {
          "base_uri": "https://localhost:8080/"
        },
        "id": "jGhZC0bhnYIE",
        "outputId": "3b9e7221-fc83-4ba5-e8ef-d0b81a3070ce"
      },
      "execution_count": 23,
      "outputs": [
        {
          "output_type": "execute_result",
          "data": {
            "text/plain": [
              "array([78.3201581])"
            ]
          },
          "metadata": {},
          "execution_count": 23
        }
      ]
    }
  ]
}