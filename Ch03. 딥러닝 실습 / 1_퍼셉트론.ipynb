{
  "nbformat": 4,
  "nbformat_minor": 0,
  "metadata": {
    "colab": {
      "name": "1.퍼셉트론.ipynb",
      "provenance": [],
      "authorship_tag": "ABX9TyPdxVrSCISIRf4gErJ1Jsrf",
      "include_colab_link": true
    },
    "kernelspec": {
      "name": "python3",
      "display_name": "Python 3"
    },
    "language_info": {
      "name": "python"
    }
  },
  "cells": [
    {
      "cell_type": "markdown",
      "metadata": {
        "id": "view-in-github",
        "colab_type": "text"
      },
      "source": [
        "<a href=\"https://colab.research.google.com/github/kkktim/Colab/blob/master/Ch03.%20%EB%94%A5%EB%9F%AC%EB%8B%9D%20%EC%8B%A4%EC%8A%B5%20/%201_%ED%8D%BC%EC%85%89%ED%8A%B8%EB%A1%A0.ipynb\" target=\"_parent\"><img src=\"https://colab.research.google.com/assets/colab-badge.svg\" alt=\"Open In Colab\"/></a>"
      ]
    },
    {
      "cell_type": "code",
      "execution_count": 1,
      "metadata": {
        "id": "yNd-RkbekS1-"
      },
      "outputs": [],
      "source": [
        "\"\"\"\n",
        "  날짜 : 2022/05/09\n",
        "  이름 : 강태호\n",
        "  내용 : 퍼셉트론 실습하기\n",
        "\"\"\"\n",
        "import numpy as np"
      ]
    },
    {
      "cell_type": "code",
      "source": [
        "#데이터\n",
        "data = np.array([[0, 0], [0, 1], [1, 0], [1, 1]])\n",
        "label = np.array([[0], [1], [1], [0]])"
      ],
      "metadata": {
        "id": "S0Zn6n2bomXG"
      },
      "execution_count": 4,
      "outputs": []
    },
    {
      "cell_type": "code",
      "source": [
        "#AND 퍼셉트론\n",
        "def AND(x1, x2):\n",
        "  x = np.array([x1, x2])\n",
        "  w = np.array([0.5, 0.5])\n",
        "  b = -0.7\n",
        "\n",
        "  y = np.sum(x * w) + b\n",
        "\n",
        "  if y <= 0:\n",
        "    return 0\n",
        "  else:\n",
        "    return 1\n"
      ],
      "metadata": {
        "id": "Ko8HW8DGo_KQ"
      },
      "execution_count": 8,
      "outputs": []
    },
    {
      "cell_type": "code",
      "source": [
        "#OR 퍼셉트론\n",
        "def OR(x1, x2):\n",
        "  x = np.array([x1, x2])\n",
        "  w = np.array([2, 2])\n",
        "  b = -1\n",
        "\n",
        "  y = np.sum(x * w) + b\n",
        "\n",
        "  if y <= 0:\n",
        "    return 0\n",
        "  else:\n",
        "    return 1"
      ],
      "metadata": {
        "id": "Tys4hZM5pFf3"
      },
      "execution_count": 9,
      "outputs": []
    },
    {
      "cell_type": "code",
      "source": [
        "#NAND 퍼셉트론\n",
        "def NAND(x1, x2):\n",
        "  x = np.array([x1, x2])\n",
        "  w = np.array([-0.5, -0.5])\n",
        "  b = 0.7\n",
        "\n",
        "  y = np.sum(x * w) + b\n",
        "\n",
        "  if y <= 0:\n",
        "    return 0\n",
        "  else:\n",
        "    return 1"
      ],
      "metadata": {
        "id": "Kz8C24OUpG_v"
      },
      "execution_count": 10,
      "outputs": []
    },
    {
      "cell_type": "code",
      "source": [
        "#AND, OR, NAND 테스트\n",
        "print('AND')\n",
        "print('0, 0 : ',AND(0, 0))\n",
        "print('0, 1 : ',AND(0, 1))\n",
        "print('1, 0 : ',AND(1, 0))\n",
        "print('1, 1 : ',AND(1, 1))\n",
        "\n",
        "print('OR')\n",
        "print('0, 0 : ',OR(0, 0))\n",
        "print('0, 1 : ',OR(0, 1))\n",
        "print('1, 0 : ',OR(1, 0))\n",
        "print('1, 1 : ',OR(1, 1))\n",
        "\n",
        "print('NAND')\n",
        "print('0, 0 : ',NAND(0, 0))\n",
        "print('0, 1 : ',NAND(0, 1))\n",
        "print('1, 0 : ',NAND(1, 0))\n",
        "print('1, 1 : ',NAND(1, 1))"
      ],
      "metadata": {
        "colab": {
          "base_uri": "https://localhost:8080/"
        },
        "id": "hly-QdSfqiOo",
        "outputId": "ed8a16c5-e28d-42de-ed70-106f347640a7"
      },
      "execution_count": 14,
      "outputs": [
        {
          "output_type": "stream",
          "name": "stdout",
          "text": [
            "AND\n",
            "0, 0 :  0\n",
            "0, 1 :  0\n",
            "1, 0 :  0\n",
            "1, 1 :  1\n",
            "OR\n",
            "0, 0 :  0\n",
            "0, 1 :  1\n",
            "1, 0 :  1\n",
            "1, 1 :  1\n",
            "NAND\n",
            "0, 0 :  1\n",
            "0, 1 :  1\n",
            "1, 0 :  1\n",
            "1, 1 :  0\n"
          ]
        }
      ]
    },
    {
      "cell_type": "code",
      "source": [
        "#XOR 퍼셉트론\n",
        "def XOR(x1, x2):\n",
        "  z1 = NAND(x1, x2)\n",
        "  z2 = OR(x1, x2)\n",
        "\n",
        "  y = AND(z1, z2)\n",
        "\n",
        "  return y\n"
      ],
      "metadata": {
        "id": "_YR1xjVppIun"
      },
      "execution_count": 16,
      "outputs": []
    },
    {
      "cell_type": "code",
      "source": [
        "print('XOR')\n",
        "print('0, 0 : ',XOR(0, 0))\n",
        "print('0, 1 : ',XOR(0, 1))\n",
        "print('1, 0 : ',XOR(1, 0))\n",
        "print('1, 1 : ',XOR(1, 1))"
      ],
      "metadata": {
        "colab": {
          "base_uri": "https://localhost:8080/"
        },
        "id": "m3PQ1o_9rd9e",
        "outputId": "3903813e-6163-44d6-89e0-ffc96b41d459"
      },
      "execution_count": 17,
      "outputs": [
        {
          "output_type": "stream",
          "name": "stdout",
          "text": [
            "XOR\n",
            "0, 0 :  0\n",
            "0, 1 :  1\n",
            "1, 0 :  1\n",
            "1, 1 :  0\n"
          ]
        }
      ]
    },
    {
      "cell_type": "code",
      "source": [
        ""
      ],
      "metadata": {
        "id": "cmwXKGmLrigO"
      },
      "execution_count": null,
      "outputs": []
    }
  ]
}