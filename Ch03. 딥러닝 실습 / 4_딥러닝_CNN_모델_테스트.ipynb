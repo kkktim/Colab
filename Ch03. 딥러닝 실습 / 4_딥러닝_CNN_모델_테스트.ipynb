{
  "nbformat": 4,
  "nbformat_minor": 0,
  "metadata": {
    "colab": {
      "name": "4.딥러닝 CNN 모델 테스트.ipynb",
      "provenance": [],
      "collapsed_sections": [],
      "mount_file_id": "1i6HHxHTEmy-07Wx0wSIt_pqs7QSl2P_d",
      "authorship_tag": "ABX9TyOfQnfQxdY4QlIOViMT8pqx",
      "include_colab_link": true
    },
    "kernelspec": {
      "name": "python3",
      "display_name": "Python 3"
    },
    "language_info": {
      "name": "python"
    }
  },
  "cells": [
    {
      "cell_type": "markdown",
      "metadata": {
        "id": "view-in-github",
        "colab_type": "text"
      },
      "source": [
        "<a href=\"https://colab.research.google.com/github/kkktim/Colab/blob/master/Ch03.%20%EB%94%A5%EB%9F%AC%EB%8B%9D%20%EC%8B%A4%EC%8A%B5%20/%204_%EB%94%A5%EB%9F%AC%EB%8B%9D_CNN_%EB%AA%A8%EB%8D%B8_%ED%85%8C%EC%8A%A4%ED%8A%B8.ipynb\" target=\"_parent\"><img src=\"https://colab.research.google.com/assets/colab-badge.svg\" alt=\"Open In Colab\"/></a>"
      ]
    },
    {
      "cell_type": "code",
      "execution_count": 30,
      "metadata": {
        "colab": {
          "base_uri": "https://localhost:8080/",
          "height": 35
        },
        "id": "8cm0BB8l7JAl",
        "outputId": "181d93e0-869c-4681-8ec6-a3d6f104fdca"
      },
      "outputs": [
        {
          "output_type": "execute_result",
          "data": {
            "text/plain": [
              "'2.8.0'"
            ],
            "application/vnd.google.colaboratory.intrinsic+json": {
              "type": "string"
            }
          },
          "metadata": {},
          "execution_count": 30
        }
      ],
      "source": [
        "\"\"\"\n",
        "  날짜 : 2022/05/10\n",
        "  이름 : 강태호\n",
        "  내용 : 딥러닝 CNN 모델 실습\n",
        "\"\"\"\n",
        "import matplotlib.pyplot as plt\n",
        "import numpy as np\n",
        "import tensorflow as tf\n",
        "from tensorflow.keras.datasets.cifar10 import load_data\n",
        "from tensorflow.keras.utils import to_categorical\n",
        "from tensorflow.keras.models import load_model\n",
        "from keras.preprocessing.image import load_img, img_to_array\n",
        "from PIL import Image\n",
        "tf.__version__"
      ]
    },
    {
      "cell_type": "code",
      "source": [
        "#데이터 불러오기\n",
        "(cifar_train_data, cifar_train_label), (cifar_test_data, cifar_test_label) = load_data()"
      ],
      "metadata": {
        "colab": {
          "base_uri": "https://localhost:8080/"
        },
        "id": "aVeoVt937dV4",
        "outputId": "b42cd492-ea8d-4292-e686-ea30fe31a013"
      },
      "execution_count": 3,
      "outputs": [
        {
          "output_type": "stream",
          "name": "stdout",
          "text": [
            "Downloading data from https://www.cs.toronto.edu/~kriz/cifar-10-python.tar.gz\n",
            "170500096/170498071 [==============================] - 11s 0us/step\n",
            "170508288/170498071 [==============================] - 11s 0us/step\n"
          ]
        }
      ]
    },
    {
      "cell_type": "code",
      "source": [
        "#모델학습을 위한 데이터 전처리(정규화)\n",
        "cifar_train_data2 = cifar_train_data / 255\n",
        "cifar_test_data2 = cifar_test_data / 255\n",
        "\n",
        "cifar_train_data2[0]"
      ],
      "metadata": {
        "colab": {
          "base_uri": "https://localhost:8080/"
        },
        "id": "cdARLnzO9dFg",
        "outputId": "0e3bfcb7-e48e-4413-e1a3-736509a194f0"
      },
      "execution_count": 25,
      "outputs": [
        {
          "output_type": "execute_result",
          "data": {
            "text/plain": [
              "array([[[0.23137255, 0.24313725, 0.24705882],\n",
              "        [0.16862745, 0.18039216, 0.17647059],\n",
              "        [0.19607843, 0.18823529, 0.16862745],\n",
              "        ...,\n",
              "        [0.61960784, 0.51764706, 0.42352941],\n",
              "        [0.59607843, 0.49019608, 0.4       ],\n",
              "        [0.58039216, 0.48627451, 0.40392157]],\n",
              "\n",
              "       [[0.0627451 , 0.07843137, 0.07843137],\n",
              "        [0.        , 0.        , 0.        ],\n",
              "        [0.07058824, 0.03137255, 0.        ],\n",
              "        ...,\n",
              "        [0.48235294, 0.34509804, 0.21568627],\n",
              "        [0.46666667, 0.3254902 , 0.19607843],\n",
              "        [0.47843137, 0.34117647, 0.22352941]],\n",
              "\n",
              "       [[0.09803922, 0.09411765, 0.08235294],\n",
              "        [0.0627451 , 0.02745098, 0.        ],\n",
              "        [0.19215686, 0.10588235, 0.03137255],\n",
              "        ...,\n",
              "        [0.4627451 , 0.32941176, 0.19607843],\n",
              "        [0.47058824, 0.32941176, 0.19607843],\n",
              "        [0.42745098, 0.28627451, 0.16470588]],\n",
              "\n",
              "       ...,\n",
              "\n",
              "       [[0.81568627, 0.66666667, 0.37647059],\n",
              "        [0.78823529, 0.6       , 0.13333333],\n",
              "        [0.77647059, 0.63137255, 0.10196078],\n",
              "        ...,\n",
              "        [0.62745098, 0.52156863, 0.2745098 ],\n",
              "        [0.21960784, 0.12156863, 0.02745098],\n",
              "        [0.20784314, 0.13333333, 0.07843137]],\n",
              "\n",
              "       [[0.70588235, 0.54509804, 0.37647059],\n",
              "        [0.67843137, 0.48235294, 0.16470588],\n",
              "        [0.72941176, 0.56470588, 0.11764706],\n",
              "        ...,\n",
              "        [0.72156863, 0.58039216, 0.36862745],\n",
              "        [0.38039216, 0.24313725, 0.13333333],\n",
              "        [0.3254902 , 0.20784314, 0.13333333]],\n",
              "\n",
              "       [[0.69411765, 0.56470588, 0.45490196],\n",
              "        [0.65882353, 0.50588235, 0.36862745],\n",
              "        [0.70196078, 0.55686275, 0.34117647],\n",
              "        ...,\n",
              "        [0.84705882, 0.72156863, 0.54901961],\n",
              "        [0.59215686, 0.4627451 , 0.32941176],\n",
              "        [0.48235294, 0.36078431, 0.28235294]]])"
            ]
          },
          "metadata": {},
          "execution_count": 25
        }
      ]
    },
    {
      "cell_type": "code",
      "source": [
        "#데이터 라벨을 범주형(one-hot encoding)으로 변환\n",
        "cifar_train_label2 = to_categorical(cifar_train_label)\n",
        "cifar_test_label2 = to_categorical(cifar_test_label)\n",
        "cifar_train_label2[1]"
      ],
      "metadata": {
        "colab": {
          "base_uri": "https://localhost:8080/"
        },
        "id": "oRNHPObQ8tpg",
        "outputId": "4d98d5b3-4ba9-496a-de92-8520c903bfcc"
      },
      "execution_count": 8,
      "outputs": [
        {
          "output_type": "execute_result",
          "data": {
            "text/plain": [
              "array([0., 0., 0., 0., 0., 0., 0., 0., 0., 1.], dtype=float32)"
            ]
          },
          "metadata": {},
          "execution_count": 8
        }
      ]
    },
    {
      "cell_type": "code",
      "source": [
        "#외부 학습 모델 불러오기\n",
        "model = load_model('/content/drive/MyDrive/파이썬 데이터 과학 실습/file/cifar_model.h5')\n",
        "model.summary()"
      ],
      "metadata": {
        "colab": {
          "base_uri": "https://localhost:8080/"
        },
        "id": "PRONR4Ep8xt4",
        "outputId": "6db11357-ef33-4b7c-e4eb-f35317912eb6"
      },
      "execution_count": 9,
      "outputs": [
        {
          "output_type": "stream",
          "name": "stdout",
          "text": [
            "Model: \"sequential\"\n",
            "_________________________________________________________________\n",
            " Layer (type)                Output Shape              Param #   \n",
            "=================================================================\n",
            " conv2d (Conv2D)             (None, 32, 32, 32)        896       \n",
            "                                                                 \n",
            " conv2d_1 (Conv2D)           (None, 32, 32, 32)        9248      \n",
            "                                                                 \n",
            " max_pooling2d (MaxPooling2D  (None, 16, 16, 32)       0         \n",
            " )                                                               \n",
            "                                                                 \n",
            " dropout (Dropout)           (None, 16, 16, 32)        0         \n",
            "                                                                 \n",
            " conv2d_2 (Conv2D)           (None, 16, 16, 64)        18496     \n",
            "                                                                 \n",
            " conv2d_3 (Conv2D)           (None, 16, 16, 64)        36928     \n",
            "                                                                 \n",
            " max_pooling2d_1 (MaxPooling  (None, 8, 8, 64)         0         \n",
            " 2D)                                                             \n",
            "                                                                 \n",
            " dropout_1 (Dropout)         (None, 8, 8, 64)          0         \n",
            "                                                                 \n",
            " conv2d_4 (Conv2D)           (None, 8, 8, 128)         73856     \n",
            "                                                                 \n",
            " conv2d_5 (Conv2D)           (None, 8, 8, 128)         147584    \n",
            "                                                                 \n",
            " max_pooling2d_2 (MaxPooling  (None, 4, 4, 128)        0         \n",
            " 2D)                                                             \n",
            "                                                                 \n",
            " dropout_2 (Dropout)         (None, 4, 4, 128)         0         \n",
            "                                                                 \n",
            " flatten (Flatten)           (None, 2048)              0         \n",
            "                                                                 \n",
            " dense (Dense)               (None, 256)               524544    \n",
            "                                                                 \n",
            " dense_1 (Dense)             (None, 10)                2570      \n",
            "                                                                 \n",
            "=================================================================\n",
            "Total params: 814,122\n",
            "Trainable params: 814,122\n",
            "Non-trainable params: 0\n",
            "_________________________________________________________________\n"
          ]
        }
      ]
    },
    {
      "cell_type": "code",
      "source": [
        "#모델 테스트\n",
        "result = model.evaluate(cifar_test_data2, cifar_test_label2)\n",
        "result"
      ],
      "metadata": {
        "colab": {
          "base_uri": "https://localhost:8080/"
        },
        "id": "3Le9CWRz9Dpg",
        "outputId": "d3c3df36-96ca-48cc-98be-664615337858"
      },
      "execution_count": 10,
      "outputs": [
        {
          "output_type": "stream",
          "name": "stdout",
          "text": [
            "313/313 [==============================] - 19s 60ms/step - loss: 0.7018 - acc: 0.7673\n"
          ]
        },
        {
          "output_type": "execute_result",
          "data": {
            "text/plain": [
              "[0.7017500996589661, 0.767300009727478]"
            ]
          },
          "metadata": {},
          "execution_count": 10
        }
      ]
    },
    {
      "cell_type": "code",
      "source": [
        "#이미지 로드 함수 정의\n",
        "def load_image(filename):\n",
        "  #load the image\n",
        "  img = load_img(filename, target_size=(32, 32))\n",
        "  #convert to array\n",
        "  img = img_to_array(img)\n",
        "  #reshape into a single example with 3 channels\n",
        "  img = img.reshape(1, 32, 32, 3)\n",
        "  #prepare pixel data\n",
        "  img = img.astype('float32')\n",
        "  img = img / 255.0\n",
        "  return img"
      ],
      "metadata": {
        "id": "Kl-J6ga-BHnp"
      },
      "execution_count": 32,
      "outputs": []
    },
    {
      "cell_type": "code",
      "source": [
        "#이미지 테스트\n",
        "img = load_image('/content/drive/MyDrive/파이썬 데이터 과학 실습/file/flog.jpg')\n",
        "img"
      ],
      "metadata": {
        "colab": {
          "base_uri": "https://localhost:8080/"
        },
        "id": "fNZGBrg19Mho",
        "outputId": "2c7ad562-ab76-453e-ac26-2f684076f3fb"
      },
      "execution_count": 33,
      "outputs": [
        {
          "output_type": "execute_result",
          "data": {
            "text/plain": [
              "array([[[[1.        , 1.        , 0.9647059 ],\n",
              "         [1.        , 1.        , 0.9647059 ],\n",
              "         [1.        , 1.        , 0.972549  ],\n",
              "         ...,\n",
              "         [1.        , 1.        , 0.9843137 ],\n",
              "         [0.98039216, 0.99607843, 0.99215686],\n",
              "         [0.9843137 , 1.        , 1.        ]],\n",
              "\n",
              "        [[1.        , 1.        , 1.        ],\n",
              "         [1.        , 1.        , 0.99215686],\n",
              "         [1.        , 1.        , 0.9843137 ],\n",
              "         ...,\n",
              "         [1.        , 0.99215686, 1.        ],\n",
              "         [0.9882353 , 0.9882353 , 0.9882353 ],\n",
              "         [0.9843137 , 1.        , 0.98039216]],\n",
              "\n",
              "        [[1.        , 0.99215686, 1.        ],\n",
              "         [1.        , 0.99607843, 1.        ],\n",
              "         [1.        , 1.        , 1.        ],\n",
              "         ...,\n",
              "         [1.        , 0.9764706 , 0.99607843],\n",
              "         [1.        , 1.        , 0.99215686],\n",
              "         [0.9764706 , 1.        , 0.9490196 ]],\n",
              "\n",
              "        ...,\n",
              "\n",
              "        [[1.        , 0.99607843, 1.        ],\n",
              "         [1.        , 0.9882353 , 1.        ],\n",
              "         [1.        , 0.99215686, 1.        ],\n",
              "         ...,\n",
              "         [1.        , 0.9843137 , 1.        ],\n",
              "         [1.        , 0.9882353 , 1.        ],\n",
              "         [0.99215686, 0.98039216, 1.        ]],\n",
              "\n",
              "        [[1.        , 1.        , 1.        ],\n",
              "         [1.        , 0.99215686, 1.        ],\n",
              "         [1.        , 0.9882353 , 1.        ],\n",
              "         ...,\n",
              "         [1.        , 0.99607843, 1.        ],\n",
              "         [0.99607843, 1.        , 1.        ],\n",
              "         [0.972549  , 0.99607843, 1.        ]],\n",
              "\n",
              "        [[0.99607843, 1.        , 0.98039216],\n",
              "         [1.        , 1.        , 0.99215686],\n",
              "         [1.        , 0.9843137 , 1.        ],\n",
              "         ...,\n",
              "         [0.9882353 , 1.        , 0.9647059 ],\n",
              "         [0.9607843 , 1.        , 1.        ],\n",
              "         [0.9490196 , 1.        , 1.        ]]]], dtype=float32)"
            ]
          },
          "metadata": {},
          "execution_count": 33
        }
      ]
    },
    {
      "cell_type": "code",
      "source": [
        "#이미지 모델 테스트\n",
        "result = model.predict(img)\n",
        "result.round()"
      ],
      "metadata": {
        "colab": {
          "base_uri": "https://localhost:8080/"
        },
        "id": "GYCnhDJM9zU3",
        "outputId": "41045e55-ace5-4b81-87ce-cb85e240c369"
      },
      "execution_count": 35,
      "outputs": [
        {
          "output_type": "execute_result",
          "data": {
            "text/plain": [
              "array([[0., 0., 0., 0., 0., 0., 1., 0., 0., 0.]], dtype=float32)"
            ]
          },
          "metadata": {},
          "execution_count": 35
        }
      ]
    },
    {
      "cell_type": "code",
      "source": [
        ""
      ],
      "metadata": {
        "id": "5XIdFhaODZ8w"
      },
      "execution_count": null,
      "outputs": []
    }
  ]
}